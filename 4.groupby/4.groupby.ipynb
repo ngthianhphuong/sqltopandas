{
 "cells": [
  {
   "cell_type": "code",
   "execution_count": 1,
   "metadata": {},
   "outputs": [
    {
     "name": "stderr",
     "output_type": "stream",
     "text": [
      "/opt/anaconda3/lib/python3.8/site-packages/pandas/core/computation/expressions.py:20: UserWarning: Pandas requires version '2.7.3' or newer of 'numexpr' (version '2.7.1' currently installed).\n",
      "  from pandas.core.computation.check import NUMEXPR_INSTALLED\n"
     ]
    }
   ],
   "source": [
    "import pandas as pd\n",
    "import duckdb"
   ]
  },
  {
   "cell_type": "code",
   "execution_count": 2,
   "metadata": {},
   "outputs": [],
   "source": [
    "# insert data\n",
    "table_creation_query = \"\"\"\n",
    "drop table if exists orders;\n",
    "\n",
    "create table orders (order_id int, customer_id int, product_category varchar, amount float);\n",
    "\n",
    "insert into orders values\n",
    "  (122154, 1, 'tea', 4.5),\n",
    "  (122453, 2, 'chocolate', 5.0),\n",
    "  (122476, 1, 'coffee', 4.0),\n",
    "  (122783, 3, 'tea', 6.0),\n",
    "  (122378, 1, 'chocolate', 5.0),\n",
    "  (122157, 2, 'coffee', 5.5)\n",
    "  ;\n",
    "  \n",
    "SELECT * FROM orders\"\"\""
   ]
  },
  {
   "cell_type": "code",
   "execution_count": 4,
   "metadata": {},
   "outputs": [],
   "source": [
    "# transform orders table to a pandas dataframe\n",
    "df = duckdb.sql(table_creation_query).df()"
   ]
  },
  {
   "cell_type": "markdown",
   "metadata": {},
   "source": [
    "# 1. SQL"
   ]
  },
  {
   "cell_type": "code",
   "execution_count": 5,
   "metadata": {},
   "outputs": [
    {
     "data": {
      "text/plain": [
       "┌──────────────────┬─────────────┬──────────────┬────────────┐\n",
       "│ product_category │ order_count │ total_amount │ avg_amount │\n",
       "│     varchar      │    int64    │    double    │   double   │\n",
       "├──────────────────┼─────────────┼──────────────┼────────────┤\n",
       "│ tea              │           2 │         10.5 │       5.25 │\n",
       "│ chocolate        │           2 │         10.0 │        5.0 │\n",
       "│ coffee           │           2 │          9.5 │       4.75 │\n",
       "└──────────────────┴─────────────┴──────────────┴────────────┘"
      ]
     },
     "execution_count": 5,
     "metadata": {},
     "output_type": "execute_result"
    }
   ],
   "source": [
    "sql_query = \"\"\" \n",
    "    SELECT \n",
    "        product_category,\n",
    "        COUNT(order_id) AS order_count,\n",
    "        SUM(amount) AS total_amount,\n",
    "        AVG(amount) AS avg_amount\n",
    "    FROM df\n",
    "    GROUP BY product_category\n",
    "    \"\"\"\n",
    "\n",
    "duckdb.sql(sql_query)"
   ]
  },
  {
   "cell_type": "markdown",
   "metadata": {},
   "source": [
    "# 2. Pandas"
   ]
  },
  {
   "cell_type": "code",
   "execution_count": 6,
   "metadata": {},
   "outputs": [
    {
     "data": {
      "text/html": [
       "<div>\n",
       "<style scoped>\n",
       "    .dataframe tbody tr th:only-of-type {\n",
       "        vertical-align: middle;\n",
       "    }\n",
       "\n",
       "    .dataframe tbody tr th {\n",
       "        vertical-align: top;\n",
       "    }\n",
       "\n",
       "    .dataframe thead tr th {\n",
       "        text-align: left;\n",
       "    }\n",
       "\n",
       "    .dataframe thead tr:last-of-type th {\n",
       "        text-align: right;\n",
       "    }\n",
       "</style>\n",
       "<table border=\"1\" class=\"dataframe\">\n",
       "  <thead>\n",
       "    <tr>\n",
       "      <th></th>\n",
       "      <th>order_id</th>\n",
       "      <th colspan=\"2\" halign=\"left\">amount</th>\n",
       "    </tr>\n",
       "    <tr>\n",
       "      <th></th>\n",
       "      <th>count</th>\n",
       "      <th>sum</th>\n",
       "      <th>mean</th>\n",
       "    </tr>\n",
       "    <tr>\n",
       "      <th>product_category</th>\n",
       "      <th></th>\n",
       "      <th></th>\n",
       "      <th></th>\n",
       "    </tr>\n",
       "  </thead>\n",
       "  <tbody>\n",
       "    <tr>\n",
       "      <th>chocolate</th>\n",
       "      <td>2</td>\n",
       "      <td>10.0</td>\n",
       "      <td>5.00</td>\n",
       "    </tr>\n",
       "    <tr>\n",
       "      <th>coffee</th>\n",
       "      <td>2</td>\n",
       "      <td>9.5</td>\n",
       "      <td>4.75</td>\n",
       "    </tr>\n",
       "    <tr>\n",
       "      <th>tea</th>\n",
       "      <td>2</td>\n",
       "      <td>10.5</td>\n",
       "      <td>5.25</td>\n",
       "    </tr>\n",
       "  </tbody>\n",
       "</table>\n",
       "</div>"
      ],
      "text/plain": [
       "                 order_id amount      \n",
       "                    count    sum  mean\n",
       "product_category                      \n",
       "chocolate               2   10.0  5.00\n",
       "coffee                  2    9.5  4.75\n",
       "tea                     2   10.5  5.25"
      ]
     },
     "execution_count": 6,
     "metadata": {},
     "output_type": "execute_result"
    }
   ],
   "source": [
    "df.groupby([\"product_category\"]).agg({\n",
    "                                        \"order_id\": \"count\", \n",
    "                                        \"amount\": [\"sum\", \"mean\"]\n",
    "                                    })"
   ]
  },
  {
   "cell_type": "code",
   "execution_count": 7,
   "metadata": {},
   "outputs": [
    {
     "data": {
      "text/html": [
       "<div>\n",
       "<style scoped>\n",
       "    .dataframe tbody tr th:only-of-type {\n",
       "        vertical-align: middle;\n",
       "    }\n",
       "\n",
       "    .dataframe tbody tr th {\n",
       "        vertical-align: top;\n",
       "    }\n",
       "\n",
       "    .dataframe thead th {\n",
       "        text-align: right;\n",
       "    }\n",
       "</style>\n",
       "<table border=\"1\" class=\"dataframe\">\n",
       "  <thead>\n",
       "    <tr style=\"text-align: right;\">\n",
       "      <th></th>\n",
       "      <th>order_count</th>\n",
       "      <th>total_amount</th>\n",
       "      <th>avg_amount</th>\n",
       "    </tr>\n",
       "    <tr>\n",
       "      <th>product_category</th>\n",
       "      <th></th>\n",
       "      <th></th>\n",
       "      <th></th>\n",
       "    </tr>\n",
       "  </thead>\n",
       "  <tbody>\n",
       "    <tr>\n",
       "      <th>chocolate</th>\n",
       "      <td>2</td>\n",
       "      <td>10.0</td>\n",
       "      <td>5.00</td>\n",
       "    </tr>\n",
       "    <tr>\n",
       "      <th>coffee</th>\n",
       "      <td>2</td>\n",
       "      <td>9.5</td>\n",
       "      <td>4.75</td>\n",
       "    </tr>\n",
       "    <tr>\n",
       "      <th>tea</th>\n",
       "      <td>2</td>\n",
       "      <td>10.5</td>\n",
       "      <td>5.25</td>\n",
       "    </tr>\n",
       "  </tbody>\n",
       "</table>\n",
       "</div>"
      ],
      "text/plain": [
       "                  order_count  total_amount  avg_amount\n",
       "product_category                                       \n",
       "chocolate                   2          10.0        5.00\n",
       "coffee                      2           9.5        4.75\n",
       "tea                         2          10.5        5.25"
      ]
     },
     "execution_count": 7,
     "metadata": {},
     "output_type": "execute_result"
    }
   ],
   "source": [
    "# rename columns\n",
    "df_groupby = (df.groupby([\"product_category\"])\n",
    "   .agg({\n",
    "        \"order_id\": \"count\", \n",
    "        \"amount\": [\"sum\", \"mean\"]\n",
    "        })\n",
    "   .rename(columns={\"count\": \"order_count\", \"sum\": \"total_amount\", \"mean\": \"avg_amount\"}))\n",
    "df_groupby.columns = df_groupby.columns.droplevel(0)\n",
    "df_groupby"
   ]
  },
  {
   "cell_type": "markdown",
   "metadata": {},
   "source": [
    "# Summary\n",
    "<img src=\"assets/groupby.png\" width=600 />"
   ]
  },
  {
   "cell_type": "code",
   "execution_count": null,
   "metadata": {},
   "outputs": [],
   "source": []
  }
 ],
 "metadata": {
  "kernelspec": {
   "display_name": "Python 3",
   "language": "python",
   "name": "python3"
  },
  "language_info": {
   "codemirror_mode": {
    "name": "ipython",
    "version": 3
   },
   "file_extension": ".py",
   "mimetype": "text/x-python",
   "name": "python",
   "nbconvert_exporter": "python",
   "pygments_lexer": "ipython3",
   "version": "3.8.5"
  }
 },
 "nbformat": 4,
 "nbformat_minor": 4
}
