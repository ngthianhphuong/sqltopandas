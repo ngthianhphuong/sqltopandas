{
 "cells": [
  {
   "cell_type": "code",
   "execution_count": 11,
   "metadata": {},
   "outputs": [],
   "source": [
    "import pandas as pd\n",
    "import duckdb"
   ]
  },
  {
   "cell_type": "code",
   "execution_count": 12,
   "metadata": {},
   "outputs": [],
   "source": [
    "# insert data\n",
    "sales_table_creation_query = \"\"\"\n",
    "drop table if exists sales;\n",
    "\n",
    "create table sales (date date, product varchar, sales int);\n",
    "\n",
    "insert into sales values\n",
    "  ('2024-01-12', 'coffee', 789),\n",
    "  ('2024-01-13', 'tea', 605),\n",
    "  ('2024-01-10', 'coffee', 509),\n",
    "  ('2024-01-14', 'tea', 340),\n",
    "  ('2024-01-12', 'tea', 500),\n",
    "  ('2024-01-11', 'coffee', 423),\n",
    "  ;\n",
    "SELECT * FROM sales\n",
    "\"\"\""
   ]
  },
  {
   "cell_type": "code",
   "execution_count": 13,
   "metadata": {},
   "outputs": [
    {
     "data": {
      "text/html": [
       "<div>\n",
       "<style scoped>\n",
       "    .dataframe tbody tr th:only-of-type {\n",
       "        vertical-align: middle;\n",
       "    }\n",
       "\n",
       "    .dataframe tbody tr th {\n",
       "        vertical-align: top;\n",
       "    }\n",
       "\n",
       "    .dataframe thead th {\n",
       "        text-align: right;\n",
       "    }\n",
       "</style>\n",
       "<table border=\"1\" class=\"dataframe\">\n",
       "  <thead>\n",
       "    <tr style=\"text-align: right;\">\n",
       "      <th></th>\n",
       "      <th>date</th>\n",
       "      <th>product</th>\n",
       "      <th>sales</th>\n",
       "    </tr>\n",
       "  </thead>\n",
       "  <tbody>\n",
       "    <tr>\n",
       "      <th>0</th>\n",
       "      <td>2024-01-12</td>\n",
       "      <td>coffee</td>\n",
       "      <td>789</td>\n",
       "    </tr>\n",
       "    <tr>\n",
       "      <th>1</th>\n",
       "      <td>2024-01-13</td>\n",
       "      <td>tea</td>\n",
       "      <td>605</td>\n",
       "    </tr>\n",
       "    <tr>\n",
       "      <th>2</th>\n",
       "      <td>2024-01-10</td>\n",
       "      <td>coffee</td>\n",
       "      <td>509</td>\n",
       "    </tr>\n",
       "    <tr>\n",
       "      <th>3</th>\n",
       "      <td>2024-01-14</td>\n",
       "      <td>tea</td>\n",
       "      <td>340</td>\n",
       "    </tr>\n",
       "    <tr>\n",
       "      <th>4</th>\n",
       "      <td>2024-01-12</td>\n",
       "      <td>tea</td>\n",
       "      <td>500</td>\n",
       "    </tr>\n",
       "    <tr>\n",
       "      <th>5</th>\n",
       "      <td>2024-01-11</td>\n",
       "      <td>coffee</td>\n",
       "      <td>423</td>\n",
       "    </tr>\n",
       "  </tbody>\n",
       "</table>\n",
       "</div>"
      ],
      "text/plain": [
       "        date product  sales\n",
       "0 2024-01-12  coffee    789\n",
       "1 2024-01-13     tea    605\n",
       "2 2024-01-10  coffee    509\n",
       "3 2024-01-14     tea    340\n",
       "4 2024-01-12     tea    500\n",
       "5 2024-01-11  coffee    423"
      ]
     },
     "execution_count": 13,
     "metadata": {},
     "output_type": "execute_result"
    }
   ],
   "source": [
    "# transform sales table to a pandas dataframe\n",
    "df = duckdb.sql(sales_table_creation_query).df()\n",
    "df"
   ]
  },
  {
   "cell_type": "markdown",
   "metadata": {},
   "source": [
    "# 1. Moving average"
   ]
  },
  {
   "cell_type": "markdown",
   "metadata": {},
   "source": [
    "## 1a. SQL"
   ]
  },
  {
   "cell_type": "code",
   "execution_count": 6,
   "metadata": {},
   "outputs": [
    {
     "data": {
      "text/plain": [
       "┌────────────┬─────────┬───────┬───────────────────┐\n",
       "│    date    │ product │ sales │    moving_avg     │\n",
       "│    date    │ varchar │ int32 │      double       │\n",
       "├────────────┼─────────┼───────┼───────────────────┤\n",
       "│ 2024-01-10 │ coffee  │   509 │             509.0 │\n",
       "│ 2024-01-11 │ coffee  │   423 │             466.0 │\n",
       "│ 2024-01-12 │ coffee  │   789 │ 573.6666666666666 │\n",
       "│ 2024-01-12 │ tea     │   500 │             500.0 │\n",
       "│ 2024-01-13 │ tea     │   605 │             552.5 │\n",
       "│ 2024-01-14 │ tea     │   340 │ 481.6666666666667 │\n",
       "└────────────┴─────────┴───────┴───────────────────┘"
      ]
     },
     "execution_count": 6,
     "metadata": {},
     "output_type": "execute_result"
    }
   ],
   "source": [
    "sql_query = \"\"\" \n",
    "    SELECT \n",
    "        date,\n",
    "        product,\n",
    "        sales,\n",
    "        AVG(sales) OVER (PARTITION BY product ORDER BY date ROWS BETWEEN 2 PRECEDING AND CURRENT ROW) AS moving_avg\n",
    "    FROM sales\n",
    "    \"\"\"\n",
    "\n",
    "duckdb.sql(sql_query)"
   ]
  },
  {
   "cell_type": "markdown",
   "metadata": {},
   "source": [
    "## 1b. Pandas"
   ]
  },
  {
   "cell_type": "code",
   "execution_count": 23,
   "metadata": {},
   "outputs": [
    {
     "data": {
      "text/html": [
       "<div>\n",
       "<style scoped>\n",
       "    .dataframe tbody tr th:only-of-type {\n",
       "        vertical-align: middle;\n",
       "    }\n",
       "\n",
       "    .dataframe tbody tr th {\n",
       "        vertical-align: top;\n",
       "    }\n",
       "\n",
       "    .dataframe thead th {\n",
       "        text-align: right;\n",
       "    }\n",
       "</style>\n",
       "<table border=\"1\" class=\"dataframe\">\n",
       "  <thead>\n",
       "    <tr style=\"text-align: right;\">\n",
       "      <th></th>\n",
       "      <th>date</th>\n",
       "      <th>product</th>\n",
       "      <th>sales</th>\n",
       "      <th>moving_avg</th>\n",
       "    </tr>\n",
       "  </thead>\n",
       "  <tbody>\n",
       "    <tr>\n",
       "      <th>2</th>\n",
       "      <td>2024-01-10</td>\n",
       "      <td>coffee</td>\n",
       "      <td>509</td>\n",
       "      <td>509.000000</td>\n",
       "    </tr>\n",
       "    <tr>\n",
       "      <th>5</th>\n",
       "      <td>2024-01-11</td>\n",
       "      <td>coffee</td>\n",
       "      <td>423</td>\n",
       "      <td>466.000000</td>\n",
       "    </tr>\n",
       "    <tr>\n",
       "      <th>0</th>\n",
       "      <td>2024-01-12</td>\n",
       "      <td>coffee</td>\n",
       "      <td>789</td>\n",
       "      <td>573.666667</td>\n",
       "    </tr>\n",
       "    <tr>\n",
       "      <th>4</th>\n",
       "      <td>2024-01-12</td>\n",
       "      <td>tea</td>\n",
       "      <td>500</td>\n",
       "      <td>500.000000</td>\n",
       "    </tr>\n",
       "    <tr>\n",
       "      <th>1</th>\n",
       "      <td>2024-01-13</td>\n",
       "      <td>tea</td>\n",
       "      <td>605</td>\n",
       "      <td>552.500000</td>\n",
       "    </tr>\n",
       "    <tr>\n",
       "      <th>3</th>\n",
       "      <td>2024-01-14</td>\n",
       "      <td>tea</td>\n",
       "      <td>340</td>\n",
       "      <td>481.666667</td>\n",
       "    </tr>\n",
       "  </tbody>\n",
       "</table>\n",
       "</div>"
      ],
      "text/plain": [
       "        date product  sales  moving_avg\n",
       "2 2024-01-10  coffee    509  509.000000\n",
       "5 2024-01-11  coffee    423  466.000000\n",
       "0 2024-01-12  coffee    789  573.666667\n",
       "4 2024-01-12     tea    500  500.000000\n",
       "1 2024-01-13     tea    605  552.500000\n",
       "3 2024-01-14     tea    340  481.666667"
      ]
     },
     "execution_count": 23,
     "metadata": {},
     "output_type": "execute_result"
    }
   ],
   "source": [
    "df1 = df.copy()\n",
    "\n",
    "df1[\"moving_avg\"] = df1.sort_values(['date'])\\\n",
    "                        .groupby('product')['sales']\\\n",
    "                        .transform(lambda x: x.rolling(3, min_periods=1).mean())\n",
    "df1.sort_values(['date', 'product'])"
   ]
  },
  {
   "cell_type": "markdown",
   "metadata": {},
   "source": [
    "# 2. Running total"
   ]
  },
  {
   "cell_type": "markdown",
   "metadata": {},
   "source": [
    "## 2a. SQL"
   ]
  },
  {
   "cell_type": "code",
   "execution_count": 17,
   "metadata": {},
   "outputs": [
    {
     "data": {
      "text/plain": [
       "┌────────────┬─────────┬───────┬─────────────────────┐\n",
       "│    date    │ product │ sales │ running_total_sales │\n",
       "│    date    │ varchar │ int32 │       int128        │\n",
       "├────────────┼─────────┼───────┼─────────────────────┤\n",
       "│ 2024-01-10 │ coffee  │   509 │                 509 │\n",
       "│ 2024-01-11 │ coffee  │   423 │                 932 │\n",
       "│ 2024-01-12 │ coffee  │   789 │                1721 │\n",
       "│ 2024-01-12 │ tea     │   500 │                 500 │\n",
       "│ 2024-01-13 │ tea     │   605 │                1105 │\n",
       "│ 2024-01-14 │ tea     │   340 │                1445 │\n",
       "└────────────┴─────────┴───────┴─────────────────────┘"
      ]
     },
     "execution_count": 17,
     "metadata": {},
     "output_type": "execute_result"
    }
   ],
   "source": [
    "# Running total\n",
    "sql_query = \"\"\" \n",
    "    SELECT \n",
    "        date,\n",
    "        product,\n",
    "        sales,\n",
    "        SUM(sales) OVER (PARTITION BY product ORDER BY date ROWS UNBOUNDED PRECEDING) AS running_total_sales\n",
    "    FROM sales\n",
    "    \"\"\"\n",
    "\n",
    "duckdb.sql(sql_query)"
   ]
  },
  {
   "cell_type": "markdown",
   "metadata": {},
   "source": [
    "## 2b. Pandas"
   ]
  },
  {
   "cell_type": "code",
   "execution_count": 22,
   "metadata": {},
   "outputs": [
    {
     "data": {
      "text/html": [
       "<div>\n",
       "<style scoped>\n",
       "    .dataframe tbody tr th:only-of-type {\n",
       "        vertical-align: middle;\n",
       "    }\n",
       "\n",
       "    .dataframe tbody tr th {\n",
       "        vertical-align: top;\n",
       "    }\n",
       "\n",
       "    .dataframe thead th {\n",
       "        text-align: right;\n",
       "    }\n",
       "</style>\n",
       "<table border=\"1\" class=\"dataframe\">\n",
       "  <thead>\n",
       "    <tr style=\"text-align: right;\">\n",
       "      <th></th>\n",
       "      <th>date</th>\n",
       "      <th>product</th>\n",
       "      <th>sales</th>\n",
       "      <th>running_total_sales</th>\n",
       "    </tr>\n",
       "  </thead>\n",
       "  <tbody>\n",
       "    <tr>\n",
       "      <th>2</th>\n",
       "      <td>2024-01-10</td>\n",
       "      <td>coffee</td>\n",
       "      <td>509</td>\n",
       "      <td>509</td>\n",
       "    </tr>\n",
       "    <tr>\n",
       "      <th>5</th>\n",
       "      <td>2024-01-11</td>\n",
       "      <td>coffee</td>\n",
       "      <td>423</td>\n",
       "      <td>932</td>\n",
       "    </tr>\n",
       "    <tr>\n",
       "      <th>0</th>\n",
       "      <td>2024-01-12</td>\n",
       "      <td>coffee</td>\n",
       "      <td>789</td>\n",
       "      <td>1721</td>\n",
       "    </tr>\n",
       "    <tr>\n",
       "      <th>4</th>\n",
       "      <td>2024-01-12</td>\n",
       "      <td>tea</td>\n",
       "      <td>500</td>\n",
       "      <td>500</td>\n",
       "    </tr>\n",
       "    <tr>\n",
       "      <th>1</th>\n",
       "      <td>2024-01-13</td>\n",
       "      <td>tea</td>\n",
       "      <td>605</td>\n",
       "      <td>1105</td>\n",
       "    </tr>\n",
       "    <tr>\n",
       "      <th>3</th>\n",
       "      <td>2024-01-14</td>\n",
       "      <td>tea</td>\n",
       "      <td>340</td>\n",
       "      <td>1445</td>\n",
       "    </tr>\n",
       "  </tbody>\n",
       "</table>\n",
       "</div>"
      ],
      "text/plain": [
       "        date product  sales  running_total_sales\n",
       "2 2024-01-10  coffee    509                  509\n",
       "5 2024-01-11  coffee    423                  932\n",
       "0 2024-01-12  coffee    789                 1721\n",
       "4 2024-01-12     tea    500                  500\n",
       "1 2024-01-13     tea    605                 1105\n",
       "3 2024-01-14     tea    340                 1445"
      ]
     },
     "execution_count": 22,
     "metadata": {},
     "output_type": "execute_result"
    }
   ],
   "source": [
    "df2 = df.copy()\n",
    "\n",
    "# Running total \n",
    "df2[\"running_total_sales\"] = df2.sort_values(['date'])\\\n",
    "                                        .groupby('product')['sales']\\\n",
    "                                        .cumsum()\n",
    "df2.sort_values(['date', 'product'])"
   ]
  },
  {
   "cell_type": "markdown",
   "metadata": {},
   "source": [
    "# 3. LAG/ LEAD"
   ]
  },
  {
   "cell_type": "markdown",
   "metadata": {},
   "source": [
    "## 3a. SQL"
   ]
  },
  {
   "cell_type": "code",
   "execution_count": 25,
   "metadata": {},
   "outputs": [
    {
     "data": {
      "text/plain": [
       "┌────────────┬─────────┬───────┬────────────────────┬─────────────────────┐\n",
       "│    date    │ product │ sales │ previous_day_sales │ following_day_sales │\n",
       "│    date    │ varchar │ int32 │       int32        │        int32        │\n",
       "├────────────┼─────────┼───────┼────────────────────┼─────────────────────┤\n",
       "│ 2024-01-10 │ coffee  │   509 │               NULL │                 423 │\n",
       "│ 2024-01-11 │ coffee  │   423 │                509 │                 789 │\n",
       "│ 2024-01-12 │ coffee  │   789 │                423 │                NULL │\n",
       "│ 2024-01-12 │ tea     │   500 │               NULL │                 605 │\n",
       "│ 2024-01-13 │ tea     │   605 │                500 │                 340 │\n",
       "│ 2024-01-14 │ tea     │   340 │                605 │                NULL │\n",
       "└────────────┴─────────┴───────┴────────────────────┴─────────────────────┘"
      ]
     },
     "execution_count": 25,
     "metadata": {},
     "output_type": "execute_result"
    }
   ],
   "source": [
    "# Previous day sales and following day sales\n",
    "sql_query = \"\"\" \n",
    "    SELECT \n",
    "        date,\n",
    "        product,\n",
    "        sales,\n",
    "        LAG(sales) OVER (PARTITION BY product ORDER BY date) AS previous_day_sales,\n",
    "        LEAD(sales) OVER (PARTITION BY product ORDER BY date) AS following_day_sales\n",
    "    FROM sales\n",
    "    \"\"\"\n",
    "\n",
    "duckdb.sql(sql_query)"
   ]
  },
  {
   "cell_type": "markdown",
   "metadata": {},
   "source": [
    "## 3b. Pandas"
   ]
  },
  {
   "cell_type": "code",
   "execution_count": 26,
   "metadata": {},
   "outputs": [
    {
     "data": {
      "text/html": [
       "<div>\n",
       "<style scoped>\n",
       "    .dataframe tbody tr th:only-of-type {\n",
       "        vertical-align: middle;\n",
       "    }\n",
       "\n",
       "    .dataframe tbody tr th {\n",
       "        vertical-align: top;\n",
       "    }\n",
       "\n",
       "    .dataframe thead th {\n",
       "        text-align: right;\n",
       "    }\n",
       "</style>\n",
       "<table border=\"1\" class=\"dataframe\">\n",
       "  <thead>\n",
       "    <tr style=\"text-align: right;\">\n",
       "      <th></th>\n",
       "      <th>date</th>\n",
       "      <th>product</th>\n",
       "      <th>sales</th>\n",
       "      <th>previous_day_sales</th>\n",
       "      <th>following_day_sales</th>\n",
       "    </tr>\n",
       "  </thead>\n",
       "  <tbody>\n",
       "    <tr>\n",
       "      <th>2</th>\n",
       "      <td>2024-01-10</td>\n",
       "      <td>coffee</td>\n",
       "      <td>509</td>\n",
       "      <td>NaN</td>\n",
       "      <td>423.0</td>\n",
       "    </tr>\n",
       "    <tr>\n",
       "      <th>5</th>\n",
       "      <td>2024-01-11</td>\n",
       "      <td>coffee</td>\n",
       "      <td>423</td>\n",
       "      <td>509.0</td>\n",
       "      <td>789.0</td>\n",
       "    </tr>\n",
       "    <tr>\n",
       "      <th>0</th>\n",
       "      <td>2024-01-12</td>\n",
       "      <td>coffee</td>\n",
       "      <td>789</td>\n",
       "      <td>423.0</td>\n",
       "      <td>NaN</td>\n",
       "    </tr>\n",
       "    <tr>\n",
       "      <th>4</th>\n",
       "      <td>2024-01-12</td>\n",
       "      <td>tea</td>\n",
       "      <td>500</td>\n",
       "      <td>NaN</td>\n",
       "      <td>605.0</td>\n",
       "    </tr>\n",
       "    <tr>\n",
       "      <th>1</th>\n",
       "      <td>2024-01-13</td>\n",
       "      <td>tea</td>\n",
       "      <td>605</td>\n",
       "      <td>500.0</td>\n",
       "      <td>340.0</td>\n",
       "    </tr>\n",
       "    <tr>\n",
       "      <th>3</th>\n",
       "      <td>2024-01-14</td>\n",
       "      <td>tea</td>\n",
       "      <td>340</td>\n",
       "      <td>605.0</td>\n",
       "      <td>NaN</td>\n",
       "    </tr>\n",
       "  </tbody>\n",
       "</table>\n",
       "</div>"
      ],
      "text/plain": [
       "        date product  sales  previous_day_sales  following_day_sales\n",
       "2 2024-01-10  coffee    509                 NaN                423.0\n",
       "5 2024-01-11  coffee    423               509.0                789.0\n",
       "0 2024-01-12  coffee    789               423.0                  NaN\n",
       "4 2024-01-12     tea    500                 NaN                605.0\n",
       "1 2024-01-13     tea    605               500.0                340.0\n",
       "3 2024-01-14     tea    340               605.0                  NaN"
      ]
     },
     "execution_count": 26,
     "metadata": {},
     "output_type": "execute_result"
    }
   ],
   "source": [
    "df3 = df.copy()\n",
    "\n",
    "# Previous day sales and following day sales\n",
    "df3[\"previous_day_sales\"] = df3.sort_values(['date'])\\\n",
    "                                        .groupby('product')['sales']\\\n",
    "                                        .shift(1)\n",
    "df3[\"following_day_sales\"] = df3.sort_values(['date'])\\\n",
    "                                        .groupby('product')['sales']\\\n",
    "                                        .shift(-1)\n",
    "df3.sort_values(['date', 'product'])"
   ]
  },
  {
   "cell_type": "markdown",
   "metadata": {},
   "source": [
    "# 4. RANK()"
   ]
  },
  {
   "cell_type": "markdown",
   "metadata": {},
   "source": [
    "## 4a. SQL"
   ]
  },
  {
   "cell_type": "code",
   "execution_count": 62,
   "metadata": {},
   "outputs": [
    {
     "data": {
      "text/plain": [
       "┌────────────┬─────────┬───────┬─────────┐\n",
       "│    date    │ product │ sales │ rank_nb │\n",
       "│    date    │ varchar │ int32 │  int64  │\n",
       "├────────────┼─────────┼───────┼─────────┤\n",
       "│ 2024-01-12 │ coffee  │   789 │       1 │\n",
       "│ 2024-01-10 │ coffee  │   509 │       2 │\n",
       "│ 2024-01-11 │ coffee  │   423 │       3 │\n",
       "│ 2024-01-13 │ tea     │   605 │       1 │\n",
       "│ 2024-01-12 │ tea     │   500 │       2 │\n",
       "│ 2024-01-14 │ tea     │   340 │       3 │\n",
       "└────────────┴─────────┴───────┴─────────┘"
      ]
     },
     "execution_count": 62,
     "metadata": {},
     "output_type": "execute_result"
    }
   ],
   "source": [
    "sql_query = \"\"\" \n",
    "    SELECT \n",
    "        date,\n",
    "        product,\n",
    "        sales,\n",
    "        RANK() OVER (PARTITION BY product ORDER BY sales DESC) AS rank_nb\n",
    "    FROM sales\n",
    "    \"\"\"\n",
    "\n",
    "duckdb.sql(sql_query)"
   ]
  },
  {
   "cell_type": "markdown",
   "metadata": {},
   "source": [
    "## 4b. Pandas"
   ]
  },
  {
   "cell_type": "code",
   "execution_count": 69,
   "metadata": {},
   "outputs": [
    {
     "data": {
      "text/html": [
       "<div>\n",
       "<style scoped>\n",
       "    .dataframe tbody tr th:only-of-type {\n",
       "        vertical-align: middle;\n",
       "    }\n",
       "\n",
       "    .dataframe tbody tr th {\n",
       "        vertical-align: top;\n",
       "    }\n",
       "\n",
       "    .dataframe thead th {\n",
       "        text-align: right;\n",
       "    }\n",
       "</style>\n",
       "<table border=\"1\" class=\"dataframe\">\n",
       "  <thead>\n",
       "    <tr style=\"text-align: right;\">\n",
       "      <th></th>\n",
       "      <th>date</th>\n",
       "      <th>product</th>\n",
       "      <th>sales</th>\n",
       "      <th>rank_nb</th>\n",
       "    </tr>\n",
       "  </thead>\n",
       "  <tbody>\n",
       "    <tr>\n",
       "      <th>0</th>\n",
       "      <td>2024-01-12</td>\n",
       "      <td>coffee</td>\n",
       "      <td>789</td>\n",
       "      <td>1.0</td>\n",
       "    </tr>\n",
       "    <tr>\n",
       "      <th>2</th>\n",
       "      <td>2024-01-10</td>\n",
       "      <td>coffee</td>\n",
       "      <td>509</td>\n",
       "      <td>2.0</td>\n",
       "    </tr>\n",
       "    <tr>\n",
       "      <th>5</th>\n",
       "      <td>2024-01-11</td>\n",
       "      <td>coffee</td>\n",
       "      <td>423</td>\n",
       "      <td>3.0</td>\n",
       "    </tr>\n",
       "    <tr>\n",
       "      <th>1</th>\n",
       "      <td>2024-01-13</td>\n",
       "      <td>tea</td>\n",
       "      <td>605</td>\n",
       "      <td>1.0</td>\n",
       "    </tr>\n",
       "    <tr>\n",
       "      <th>4</th>\n",
       "      <td>2024-01-12</td>\n",
       "      <td>tea</td>\n",
       "      <td>500</td>\n",
       "      <td>2.0</td>\n",
       "    </tr>\n",
       "    <tr>\n",
       "      <th>3</th>\n",
       "      <td>2024-01-14</td>\n",
       "      <td>tea</td>\n",
       "      <td>340</td>\n",
       "      <td>3.0</td>\n",
       "    </tr>\n",
       "  </tbody>\n",
       "</table>\n",
       "</div>"
      ],
      "text/plain": [
       "        date product  sales  rank_nb\n",
       "0 2024-01-12  coffee    789      1.0\n",
       "2 2024-01-10  coffee    509      2.0\n",
       "5 2024-01-11  coffee    423      3.0\n",
       "1 2024-01-13     tea    605      1.0\n",
       "4 2024-01-12     tea    500      2.0\n",
       "3 2024-01-14     tea    340      3.0"
      ]
     },
     "execution_count": 69,
     "metadata": {},
     "output_type": "execute_result"
    }
   ],
   "source": [
    "df4 = df.copy()\n",
    "\n",
    "df4['rank_nb'] = df4.sort_values(['date'])\\\n",
    "                 .groupby('product')['sales']\\\n",
    "                 .rank(ascending=False)\n",
    "\n",
    "df4.sort_values(['product', 'sales'], ascending=[True, False])"
   ]
  },
  {
   "cell_type": "markdown",
   "metadata": {},
   "source": [
    "# Summary\n",
    "\n",
    "<img src=\"assets/window_functions_with_partition_1.png\" width=1000 />\n",
    "<img src=\"assets/window_functions_with_partition_2.png\" width=1000 />"
   ]
  },
  {
   "cell_type": "code",
   "execution_count": null,
   "metadata": {},
   "outputs": [],
   "source": []
  }
 ],
 "metadata": {
  "kernelspec": {
   "display_name": "Python 3",
   "language": "python",
   "name": "python3"
  },
  "language_info": {
   "codemirror_mode": {
    "name": "ipython",
    "version": 3
   },
   "file_extension": ".py",
   "mimetype": "text/x-python",
   "name": "python",
   "nbconvert_exporter": "python",
   "pygments_lexer": "ipython3",
   "version": "3.8.5"
  }
 },
 "nbformat": 4,
 "nbformat_minor": 4
}
